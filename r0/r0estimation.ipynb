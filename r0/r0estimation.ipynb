{
 "cells": [
  {
   "cell_type": "markdown",
   "metadata": {},
   "source": [
    "# Constrained LS estimation of $R_0$ by AR(h+1) model"
   ]
  },
  {
   "cell_type": "markdown",
   "metadata": {},
   "source": [
    "Estimates the model\n",
    "$$\n",
    "    I_{t+1}=\\sum_{j=0}^hR_jI_{t-j}\n",
    "$$\n",
    "using the time series data in the form $\\{I_{T-2h},I_{T-2h+1},\\ldots,I_{T-h}\\ldots,I_{T},I_{T+1},\\ldots\\}$, where the parameter $h$ is a time window, we propose $h=14$ for the COVID-19 disease. The data after $I_{T+1}$ is ignored by the method. The estimation is performed by a least-squares approach, solving the optimization problem\n",
    "$$\n",
    "    \\begin{split}\n",
    "    \\min_R&\\ J=\\lVert \\mathcal{I}_{t+1}-AR\\rVert^2\\\\\n",
    "    s.t.&\\ R_j>0;\\ j=0,\\ldots,j\n",
    "    \\end{split}\n",
    "$$\n",
    "where\n",
    "$$\n",
    "    \\mathcal{I}_{t}=\\begin{pmatrix}\n",
    "    I_t\\\\\n",
    "    I_{t-1}\\\\\n",
    "    \\vdots\\\\\n",
    "    I_{t-h}\n",
    "    \\end{pmatrix}\\in\\mathbb{R}^{h+1},\n",
    "$$\n",
    "$A$ is the block matrix\n",
    "$$\n",
    "    A = \\begin{pmatrix}\n",
    "    \\mathcal{I}_{t}&\\mathcal{I}_{t-1}&\\ldots&\\mathcal{I}_{t-h}\n",
    "    \\end{pmatrix}\\in\\mathbb{R}^{(h+1)\\times(h+1)},\n",
    "$$\n",
    "and $R$ is the coefficients vector\n",
    "$$\n",
    "        R = \\begin{pmatrix}\n",
    "        R_0\\\\\n",
    "        R_1\\\\\n",
    "        \\vdots\\\\\n",
    "        R_h\n",
    "        \\end{pmatrix}\\in\\mathbb{R}^{h+1}.\n",
    "$$\n",
    "The obtained coefficient vector $R$, solution to this optimization problem is used to estimate the $R_0$ as\n",
    "$$\n",
    "\\hat{R}_0=\\sum_{j=0}^{h}R_j\n",
    "$$"
   ]
  },
  {
   "cell_type": "code",
   "execution_count": 2,
   "metadata": {},
   "outputs": [],
   "source": [
    "import json\n",
    "import matplotlib.pyplot as plt\n",
    "import numpy as np\n",
    "from scipy.linalg import norm, solve\n",
    "from scipy.optimize import Bounds, minimize\n",
    "\n",
    "def list2col(lst):\n",
    "    return np.array(lst[::-1]).reshape((len(lst), 1))\n",
    "data_file = open('data/colombia.json',)\n",
    "json_data = json.load(data_file)\n",
    "var = 'Y'"
   ]
  },
  {
   "cell_type": "code",
   "execution_count": 3,
   "metadata": {},
   "outputs": [],
   "source": [
    "def estimate_r_opt(time_series, h, show=False):\n",
    "    # Checks if there is enough data for the estimation of an AR(h+1) model\n",
    "    if 2*h >= len(time_series) - 1:\n",
    "        return None\n",
    "    \n",
    "    # Obtain the index of time T in series data\n",
    "    T = len(time_series) - 2*h - 2\n",
    "    \n",
    "    # Function that returns the \\mathcal{I}_t vector\n",
    "    x = lambda t: list2col(time_series[(t + h):(t + 2*h + 1)])\n",
    "    \n",
    "    # Construct the A matrix\n",
    "    A = []\n",
    "    for s in range(h + 1):\n",
    "        A.append(x(T-s))\n",
    "    A = np.hstack(tuple(A))\n",
    "    \n",
    "    # Define the cost functional\n",
    "    def of(R):\n",
    "        aux = np.matmul(A, R.reshape((R.size, 1)))\n",
    "        return np.power(norm(x(T+1) - aux), 2)\n",
    "    \n",
    "    # Solve the optimization problem\n",
    "    init = np.zeros(h+1)\n",
    "    bnds = Bounds([0.0001 for s in range(h+1)], [np.inf for s in range(h+1)])\n",
    "    sol = minimize(of, init, bounds=bnds)\n",
    "    if show:\n",
    "        print(sol)\n",
    "    \n",
    "    # Return the estimated R_0\n",
    "    return sol.x.sum()"
   ]
  },
  {
   "cell_type": "code",
   "execution_count": 4,
   "metadata": {},
   "outputs": [],
   "source": [
    "# Select the starting index in the complete dataset for the series data,\n",
    "# i.e. it uses the series data from index -m to -m + 2*h + 1 for the R_0 estimation.\n",
    "m = 100\n",
    "\n",
    "# Time window\n",
    "h = 14"
   ]
  },
  {
   "cell_type": "code",
   "execution_count": 5,
   "metadata": {
    "scrolled": false
   },
   "outputs": [
    {
     "name": "stdout",
     "output_type": "stream",
     "text": [
      "1.0553669492088702\n"
     ]
    }
   ],
   "source": [
    "# Colombia\n",
    "I_Colombia = json_data['co'][var][-m:]\n",
    "print(estimate_r_opt(I_Colombia, h))"
   ]
  },
  {
   "cell_type": "code",
   "execution_count": 6,
   "metadata": {},
   "outputs": [
    {
     "name": "stdout",
     "output_type": "stream",
     "text": [
      "1.0296651668867103\n"
     ]
    }
   ],
   "source": [
    "# Bogotá\n",
    "I_Bogota = json_data['co_11'][var][-m:]\n",
    "print(estimate_r_opt(I_Bogota, h))"
   ]
  },
  {
   "cell_type": "code",
   "execution_count": 7,
   "metadata": {
    "scrolled": true
   },
   "outputs": [
    {
     "name": "stdout",
     "output_type": "stream",
     "text": [
      "1.100901415438881\n"
     ]
    }
   ],
   "source": [
    "# Medellín\n",
    "I_Medellin = json_data['co_05001'][var][-m:]\n",
    "print(estimate_r_opt(I_Medellin, h))"
   ]
  }
 ],
 "metadata": {
  "kernelspec": {
   "display_name": "Python 3",
   "language": "python",
   "name": "python3"
  },
  "language_info": {
   "codemirror_mode": {
    "name": "ipython",
    "version": 3
   },
   "file_extension": ".py",
   "mimetype": "text/x-python",
   "name": "python",
   "nbconvert_exporter": "python",
   "pygments_lexer": "ipython3",
   "version": "3.8.2"
  }
 },
 "nbformat": 4,
 "nbformat_minor": 4
}
