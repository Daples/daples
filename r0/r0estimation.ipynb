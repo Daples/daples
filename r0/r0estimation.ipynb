{
 "cells": [
  {
   "cell_type": "code",
   "execution_count": 32,
   "metadata": {},
   "outputs": [],
   "source": [
    "import json\n",
    "import matplotlib.pyplot as plt\n",
    "import numpy as np\n",
    "from scipy.linalg import norm, solve\n",
    "from scipy.optimize import Bounds, minimize\n",
    "\n",
    "%matplotlib inline\n",
    "plt.rc('text', usetex=True)\n",
    "plt.rcParams.update({'font.size': 15})\n",
    "\n",
    "def list2col(lst):\n",
    "    return np.array(lst[::-1]).reshape((len(lst), 1))"
   ]
  },
  {
   "cell_type": "code",
   "execution_count": 33,
   "metadata": {},
   "outputs": [],
   "source": [
    "data_file = open('colombia.json',)\n",
    "json_data = json.load(data_file)\n",
    "var = 'Y'"
   ]
  },
  {
   "cell_type": "markdown",
   "metadata": {},
   "source": [
    "# ARMA LS"
   ]
  },
  {
   "cell_type": "markdown",
   "metadata": {},
   "source": [
    "For data $\\{I_{-2h},\\ldots,I_{-1},I_{0},\\ldots,I_t,I_{t+1}\\}$"
   ]
  },
  {
   "cell_type": "code",
   "execution_count": 36,
   "metadata": {},
   "outputs": [],
   "source": [
    "# time_series : 1D - np array (t+2,)\n",
    "# h1          : int\n",
    "\n",
    "def estimate_r(time_series, h1):\n",
    "    if 2*h1 >= len(time_series) - 1:\n",
    "        return None, None\n",
    "    \n",
    "    T = len(time_series) - 2*h1 - 2\n",
    "    x = lambda t: list2col(time_series[(t + h1):(t + 2*h1 + 1)])\n",
    "    v = lambda t: x(t - h1)\n",
    "    \n",
    "    V = np.zeros((h1 + 1, h1 + 1))\n",
    "    Z = np.zeros((h1 + 1, h1 + 1))\n",
    "    for s in range(T + 1):\n",
    "        V += np.matmul(v(s), np.transpose(x(s+1)))\n",
    "        Z += np.matmul(x(s), np.transpose(v(s)))\n",
    "    \n",
    "    A = np.matmul(np.transpose(V), np.linalg.inv(Z))\n",
    "    \n",
    "    betas = A[0, :]\n",
    "    R = betas.sum()\n",
    "    return R, A"
   ]
  },
  {
   "cell_type": "markdown",
   "metadata": {},
   "source": [
    "# Estimate $R$ - AR Constrained LS"
   ]
  },
  {
   "cell_type": "code",
   "execution_count": 57,
   "metadata": {},
   "outputs": [],
   "source": [
    "def estimate_r_opt(time_series, h, show=False):\n",
    "    if 2*h >= len(time_series) - 1:\n",
    "        return None\n",
    "    \n",
    "    # \"Current\" t in time series\n",
    "    T = len(time_series) - 2*h - 2\n",
    "    x = lambda t: list2col(time_series[(t + h):(t + 2*h + 1)])\n",
    "    \n",
    "    A = []\n",
    "    for s in range(h + 1):\n",
    "        A.append(x(T-s))\n",
    "    A = np.hstack(tuple(A))\n",
    "    \n",
    "    def of(R):\n",
    "        aux = np.matmul(A, R.reshape((R.size, 1)))\n",
    "        return np.power(norm(x(T+1) - aux), 2)\n",
    "    \n",
    "    init = np.zeros(h+1)\n",
    "    bnds = Bounds([0.0001 for s in range(h+1)], [np.inf for s in range(h+1)])\n",
    "    sol = minimize(of, init, bounds=bnds)\n",
    "    if show:\n",
    "        print(sol)\n",
    "    return sol.x.sum()"
   ]
  },
  {
   "cell_type": "markdown",
   "metadata": {},
   "source": [
    "## Dynamics of $R$ w.r.t $h$ and $t^*$"
   ]
  },
  {
   "cell_type": "code",
   "execution_count": 12,
   "metadata": {
    "scrolled": true
   },
   "outputs": [],
   "source": [
    "def analyze_r(time_series, h=14, h0=2, title=''):\n",
    "    Rsh = []\n",
    "    Rst = []\n",
    "    index = -1\n",
    "    delta_h = 0\n",
    "    first = False\n",
    "    second = False\n",
    "    while True:\n",
    "        if len(time_series[:index]) < 2*h0 + 2:\n",
    "            first = True\n",
    "        if len(time_series) < 2*(h0 + delta_h) + 2:\n",
    "            second = True\n",
    "        if first or second:\n",
    "            break\n",
    "        if not first:\n",
    "            Rst.append(estimate_r_opt(time_series[:index], h))\n",
    "            index -= 1\n",
    "        if not second:\n",
    "            Rsh.append(estimate_r_opt(time_series, h0 + delta_h))\n",
    "            delta_h += 1\n",
    "        \n",
    "    fig, (ax1, ax2) = plt.subplots(1, 2, figsize=[12, 5])\n",
    "    ax1.plot(Rsh, 'k')\n",
    "    ax1.set_xlabel('$h$')\n",
    "    ax1.set_ylabel('$R_0$')\n",
    "    \n",
    "    ax2.plot(Rst, 'k')\n",
    "    ax2.set_xlabel('$t^*$')\n",
    "    ax2.set_ylabel('$R_0$')\n",
    "    fig.suptitle(title)\n",
    "    plt.show()\n",
    "    \n",
    "    return Rsh, Rst"
   ]
  },
  {
   "cell_type": "markdown",
   "metadata": {},
   "source": [
    "## $R_0$"
   ]
  },
  {
   "cell_type": "code",
   "execution_count": 50,
   "metadata": {},
   "outputs": [],
   "source": [
    "m = 90\n",
    "h = 40"
   ]
  },
  {
   "cell_type": "code",
   "execution_count": 61,
   "metadata": {
    "scrolled": false
   },
   "outputs": [
    {
     "name": "stdout",
     "output_type": "stream",
     "text": [
      "      fun: 169121426.4572094\n",
      " hess_inv: <41x41 LbfgsInvHessProduct with dtype=float64>\n",
      "      jac: array([2.10888213e+08, 3.73699003e+08, 4.80582809e+08, 5.35408446e+08,\n",
      "       5.69143501e+08, 5.94247794e+08, 6.24125451e+08, 6.42108387e+08,\n",
      "       6.58649209e+08, 6.58043247e+08, 6.50034526e+08, 6.42265877e+08,\n",
      "       6.39607617e+08, 6.41147590e+08, 6.63591471e+08, 6.84366190e+08,\n",
      "       7.13179353e+08, 7.01829144e+08, 6.70051563e+08, 6.42410016e+08,\n",
      "       6.32274878e+08, 6.28328371e+08, 6.19032183e+08, 5.95828885e+08,\n",
      "       5.60506532e+08, 5.15756455e+08, 4.95965037e+08, 5.01640189e+08,\n",
      "       5.16031030e+08, 5.25346693e+08, 5.27421713e+08, 5.15817213e+08,\n",
      "       5.17173404e+08, 5.17537344e+08, 5.24972066e+08, 5.43376848e+08,\n",
      "       5.57820213e+08, 5.61955330e+08, 5.52305913e+08, 5.35407156e+08,\n",
      "       5.19950292e+08])\n",
      "  message: b'CONVERGENCE: REL_REDUCTION_OF_F_<=_FACTR*EPSMCH'\n",
      "     nfev: 4284\n",
      "      nit: 66\n",
      "   status: 0\n",
      "  success: True\n",
      "        x: array([4.83975193e-01, 3.19581970e-01, 1.78829122e-01, 7.62513396e-02,\n",
      "       1.00000000e-04, 1.00000000e-04, 1.00000000e-04, 1.00000000e-04,\n",
      "       1.00000000e-04, 1.00000000e-04, 1.00000000e-04, 1.00000000e-04,\n",
      "       1.00000000e-04, 1.00000000e-04, 1.00000000e-04, 1.00000000e-04,\n",
      "       1.00000000e-04, 1.00000000e-04, 1.00000000e-04, 1.00000000e-04,\n",
      "       1.00000000e-04, 1.00000000e-04, 1.00000000e-04, 1.00000000e-04,\n",
      "       1.00000000e-04, 1.00000000e-04, 1.00000000e-04, 1.00000000e-04,\n",
      "       1.00000000e-04, 1.00000000e-04, 1.00000000e-04, 1.00000000e-04,\n",
      "       1.00000000e-04, 1.00000000e-04, 1.00000000e-04, 1.00000000e-04,\n",
      "       1.00000000e-04, 1.00000000e-04, 1.00000000e-04, 1.00000000e-04,\n",
      "       1.00000000e-04])\n",
      "1.062337625309271\n"
     ]
    }
   ],
   "source": [
    "# colombia\n",
    "print(estimate_r_opt(json_data['co'][var][-m:], h, show=True))"
   ]
  },
  {
   "cell_type": "code",
   "execution_count": 59,
   "metadata": {},
   "outputs": [
    {
     "name": "stdout",
     "output_type": "stream",
     "text": [
      "1.0359824647046056\n"
     ]
    }
   ],
   "source": [
    "# bogotá\n",
    "print(estimate_r_opt(json_data['co_11'][var][-m:], h))"
   ]
  },
  {
   "cell_type": "code",
   "execution_count": 60,
   "metadata": {},
   "outputs": [
    {
     "name": "stdout",
     "output_type": "stream",
     "text": [
      "1.296798445816166\n"
     ]
    }
   ],
   "source": [
    "# medellín\n",
    "print(estimate_r_opt(json_data['co_05001'][var][-m:], h))"
   ]
  },
  {
   "cell_type": "code",
   "execution_count": null,
   "metadata": {},
   "outputs": [],
   "source": []
  }
 ],
 "metadata": {
  "kernelspec": {
   "display_name": "Python 3",
   "language": "python",
   "name": "python3"
  },
  "language_info": {
   "codemirror_mode": {
    "name": "ipython",
    "version": 3
   },
   "file_extension": ".py",
   "mimetype": "text/x-python",
   "name": "python",
   "nbconvert_exporter": "python",
   "pygments_lexer": "ipython3",
   "version": "3.8.2"
  }
 },
 "nbformat": 4,
 "nbformat_minor": 4
}
